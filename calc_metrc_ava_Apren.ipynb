{
  "nbformat": 4,
  "nbformat_minor": 0,
  "metadata": {
    "colab": {
      "provenance": []
    },
    "kernelspec": {
      "name": "python3",
      "display_name": "Python 3"
    },
    "language_info": {
      "name": "python"
    }
  },
  "cells": [
    {
      "cell_type": "markdown",
      "source": [
        "Passo 1: Criar uma Matriz de Confusão"
      ],
      "metadata": {
        "id": "YA4eTSqtjh6y"
      }
    },
    {
      "cell_type": "code",
      "execution_count": null,
      "metadata": {
        "id": "1PXZKbdajAXY"
      },
      "outputs": [],
      "source": [
        "       Predição Positiva  Predição Negativa\n",
        "Positivo         50                10\n",
        "Negativo         5                100"
      ]
    },
    {
      "cell_type": "markdown",
      "source": [
        "Neste caso:\n",
        "\n",
        "VP (Verdadeiros Positivos) = 50\n",
        "\n",
        "VN (Verdadeiros Negativos) = 100\n",
        "\n",
        "FP (Falsos Positivos) = 5\n",
        "\n",
        "FN (Falsos Negativos) = 10"
      ],
      "metadata": {
        "id": "ejJTahPkjl8A"
      }
    },
    {
      "cell_type": "markdown",
      "source": [
        "Passo 2: Calcular as Métricas"
      ],
      "metadata": {
        "id": "wIwqT_L8jpiq"
      }
    },
    {
      "cell_type": "code",
      "source": [
        "# Importar bibliotecas\n",
        "import numpy as np\n",
        "\n",
        "# Definir a matriz de confusão\n",
        "VP = 50\n",
        "VN = 100\n",
        "FP = 5\n",
        "FN = 10\n",
        "\n",
        "# Função para calcular a acurácia\n",
        "def calcular_acuracia(VP, VN, FP, FN):\n",
        "    return (VP + VN) / (VP + VN + FP + FN)\n",
        "\n",
        "# Função para calcular a sensibilidade (recall)\n",
        "def calcular_sensibilidade(VP, FN):\n",
        "    return VP / (VP + FN)\n",
        "\n",
        "# Função para calcular a especificidade\n",
        "def calcular_especificidade(VP, VN, FP, FN):\n",
        "    return VN / (FP + VN)\n",
        "\n",
        "# Função para calcular a precisão\n",
        "def calcular_precisao(VP, FP):\n",
        "    return VP / (VP + FP)\n",
        "\n",
        "# Função para calcular o F-score\n",
        "def calcular_f_score(precisao, sensibilidade):\n",
        "    return 2 * (precisao * sensibilidade) / (precisao + sensibilidade)\n",
        "\n",
        "# Calcular as métricas\n",
        "acuracia = calcular_acuracia(VP, VN, FP, FN)\n",
        "sensibilidade = calcular_sensibilidade(VP, FN)\n",
        "especificidade = calcular_especificidade(VP, VN, FP, FN)\n",
        "precisao = calcular_precisao(VP, FP)\n",
        "f_score = calcular_f_score(precisao, sensibilidade)\n",
        "\n",
        "# Exibir os resultados\n",
        "print(f'Acurácia: {acuracia:.2f}')\n",
        "print(f'Sensibilidade: {sensibilidade:.2f}')\n",
        "print(f'Especificidade: {especificidade:.2f}')\n",
        "print(f'Precisão: {precisao:.2f}')\n",
        "print(f'F-score: {f_score:.2f}')"
      ],
      "metadata": {
        "id": "Wrkk19InjsEO"
      },
      "execution_count": null,
      "outputs": []
    },
    {
      "cell_type": "markdown",
      "source": [
        "Explicação das Fórmulas\n",
        "Acurácia:\n",
        "(𝑉𝑃+𝑉𝑁)/(𝑉𝑃+𝑉𝑁+𝐹𝑃+𝐹𝑁)\n",
        "\n",
        "Sensibilidade (Recall):\n",
        "𝑉𝑃/(𝑉𝑃+𝐹𝑁)\n",
        "Especificidade:\n",
        "𝑉\n",
        "𝑁\n",
        "/\n",
        "(\n",
        "𝐹\n",
        "𝑃\n",
        "+\n",
        "𝑉\n",
        "𝑁\n",
        ")\n",
        "\n",
        "Precisão:\n",
        "𝑉\n",
        "𝑃\n",
        "/\n",
        "(\n",
        "𝑉\n",
        "𝑃\n",
        "+\n",
        "𝐹\n",
        "𝑃\n",
        ")\n",
        "\n",
        "F-score:\n",
        "2\n",
        "×\n",
        "(\n",
        "𝑃\n",
        "×\n",
        "𝑆\n",
        ")\n",
        "/\n",
        "(\n",
        "𝑃\n",
        "+\n",
        "𝑆\n",
        ")\n",
        "\n",
        "Tabela de Referência"
      ],
      "metadata": {
        "id": "G5T5k5OTjzqk"
      }
    },
    {
      "cell_type": "code",
      "source": [
        "| Métrica       | Fórmula                                |\n",
        "|---------------|----------------------------------------|\n",
        "| Sensibilidade | \\(\\frac{VP}{VP + FN}\\)                 |\n",
        "| Especificidade| \\(\\frac{VN}{FP + VN}\\)                 |\n",
        "| Acurácia      | \\(\\frac{VP + VN}{N}\\)                  |\n",
        "| Precisão      | \\(\\frac{VP}{VP + FP}\\)                 |\n",
        "| F-score       | \\(2 \\times \\frac{P \\times S}{P + S}\\)  |\n"
      ],
      "metadata": {
        "id": "KAhh57tsj9MV"
      },
      "execution_count": null,
      "outputs": []
    }
  ]
}